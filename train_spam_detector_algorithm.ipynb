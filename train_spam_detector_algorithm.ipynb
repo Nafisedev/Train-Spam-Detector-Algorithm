{
  "nbformat": 4,
  "nbformat_minor": 0,
  "metadata": {
    "colab": {
      "name": "train-spam-detector-algorithm.ipynb",
      "provenance": [],
      "collapsed_sections": []
    },
    "kernelspec": {
      "name": "python3",
      "display_name": "Python 3"
    }
  },
  "cells": [
    {
      "cell_type": "markdown",
      "metadata": {
        "id": "JHIP5zz7ILxC"
      },
      "source": [
        "Activity 1.01: Train a Spam Detector Algorithm"
      ]
    },
    {
      "cell_type": "code",
      "metadata": {
        "id": "tbca7MZGIJLG"
      },
      "source": [
        "import pandas as pd\n",
        "from sklearn.ensemble import RandomForestClassifier\n",
        "from sklearn.metrics import accuracy_score"
      ],
      "execution_count": 12,
      "outputs": []
    },
    {
      "cell_type": "code",
      "metadata": {
        "id": "JV0lx0cpIfjs"
      },
      "source": [
        "file_url = 'https://raw.githubusercontent.com/PacktWorkshops/The-Data-Science-Workshop/master/Chapter01/Dataset/dataset_44_spambase.csv'"
      ],
      "execution_count": 13,
      "outputs": []
    },
    {
      "cell_type": "code",
      "metadata": {
        "id": "56SnHfhFIqR6"
      },
      "source": [
        "df = pd.read_csv(file_url)"
      ],
      "execution_count": 14,
      "outputs": []
    },
    {
      "cell_type": "code",
      "metadata": {
        "id": "qXP2IQh3I_8f",
        "colab": {
          "base_uri": "https://localhost:8080/"
        },
        "outputId": "8d2b31d1-2078-42c6-b773-f743e9262535"
      },
      "source": [
        "print (df)"
      ],
      "execution_count": 15,
      "outputs": [
        {
          "output_type": "stream",
          "name": "stdout",
          "text": [
            "      word_freq_make  word_freq_address  word_freq_all  word_freq_3d  \\\n",
            "0               0.00               0.64           0.64           0.0   \n",
            "1               0.21               0.28           0.50           0.0   \n",
            "2               0.06               0.00           0.71           0.0   \n",
            "3               0.00               0.00           0.00           0.0   \n",
            "4               0.00               0.00           0.00           0.0   \n",
            "...              ...                ...            ...           ...   \n",
            "4596            0.31               0.00           0.62           0.0   \n",
            "4597            0.00               0.00           0.00           0.0   \n",
            "4598            0.30               0.00           0.30           0.0   \n",
            "4599            0.96               0.00           0.00           0.0   \n",
            "4600            0.00               0.00           0.65           0.0   \n",
            "\n",
            "      word_freq_our  word_freq_over  word_freq_remove  word_freq_internet  \\\n",
            "0              0.32            0.00              0.00                0.00   \n",
            "1              0.14            0.28              0.21                0.07   \n",
            "2              1.23            0.19              0.19                0.12   \n",
            "3              0.63            0.00              0.31                0.63   \n",
            "4              0.63            0.00              0.31                0.63   \n",
            "...             ...             ...               ...                 ...   \n",
            "4596           0.00            0.31              0.00                0.00   \n",
            "4597           0.00            0.00              0.00                0.00   \n",
            "4598           0.00            0.00              0.00                0.00   \n",
            "4599           0.32            0.00              0.00                0.00   \n",
            "4600           0.00            0.00              0.00                0.00   \n",
            "\n",
            "      word_freq_order  word_freq_mail  ...  char_freq_%3B  char_freq_%28  \\\n",
            "0                0.00            0.00  ...          0.000          0.000   \n",
            "1                0.00            0.94  ...          0.000          0.132   \n",
            "2                0.64            0.25  ...          0.010          0.143   \n",
            "3                0.31            0.63  ...          0.000          0.137   \n",
            "4                0.31            0.63  ...          0.000          0.135   \n",
            "...               ...             ...  ...            ...            ...   \n",
            "4596             0.00            0.00  ...          0.000          0.232   \n",
            "4597             0.00            0.00  ...          0.000          0.000   \n",
            "4598             0.00            0.00  ...          0.102          0.718   \n",
            "4599             0.00            0.00  ...          0.000          0.057   \n",
            "4600             0.00            0.00  ...          0.000          0.000   \n",
            "\n",
            "      char_freq_%5B  char_freq_%21  char_freq_%24  char_freq_%23  \\\n",
            "0               0.0          0.778          0.000          0.000   \n",
            "1               0.0          0.372          0.180          0.048   \n",
            "2               0.0          0.276          0.184          0.010   \n",
            "3               0.0          0.137          0.000          0.000   \n",
            "4               0.0          0.135          0.000          0.000   \n",
            "...             ...            ...            ...            ...   \n",
            "4596            0.0          0.000          0.000          0.000   \n",
            "4597            0.0          0.353          0.000          0.000   \n",
            "4598            0.0          0.000          0.000          0.000   \n",
            "4599            0.0          0.000          0.000          0.000   \n",
            "4600            0.0          0.125          0.000          0.000   \n",
            "\n",
            "      capital_run_length_average  capital_run_length_longest  \\\n",
            "0                          3.756                          61   \n",
            "1                          5.114                         101   \n",
            "2                          9.821                         485   \n",
            "3                          3.537                          40   \n",
            "4                          3.537                          40   \n",
            "...                          ...                         ...   \n",
            "4596                       1.142                           3   \n",
            "4597                       1.555                           4   \n",
            "4598                       1.404                           6   \n",
            "4599                       1.147                           5   \n",
            "4600                       1.250                           5   \n",
            "\n",
            "      capital_run_length_total  class  \n",
            "0                          278      1  \n",
            "1                         1028      1  \n",
            "2                         2259      1  \n",
            "3                          191      1  \n",
            "4                          191      1  \n",
            "...                        ...    ...  \n",
            "4596                        88      0  \n",
            "4597                        14      0  \n",
            "4598                       118      0  \n",
            "4599                        78      0  \n",
            "4600                        40      0  \n",
            "\n",
            "[4601 rows x 58 columns]\n"
          ]
        }
      ]
    },
    {
      "cell_type": "code",
      "metadata": {
        "id": "AK_7cVRNJDeR",
        "colab": {
          "base_uri": "https://localhost:8080/"
        },
        "outputId": "9f35ebb5-8bb2-4cb9-e14a-ac9418db3adb"
      },
      "source": [
        "target = df.pop('class')\n",
        "print (target)"
      ],
      "execution_count": 16,
      "outputs": [
        {
          "output_type": "stream",
          "name": "stdout",
          "text": [
            "0       1\n",
            "1       1\n",
            "2       1\n",
            "3       1\n",
            "4       1\n",
            "       ..\n",
            "4596    0\n",
            "4597    0\n",
            "4598    0\n",
            "4599    0\n",
            "4600    0\n",
            "Name: class, Length: 4601, dtype: int64\n"
          ]
        }
      ]
    },
    {
      "cell_type": "code",
      "metadata": {
        "id": "WKTrVdXQJLwE"
      },
      "source": [
        "seed = 160\n",
        "rf_model = RandomForestClassifier(random_state=seed)"
      ],
      "execution_count": 17,
      "outputs": []
    },
    {
      "cell_type": "code",
      "metadata": {
        "id": "XxUxOZesJu3Q",
        "colab": {
          "base_uri": "https://localhost:8080/"
        },
        "outputId": "36882103-639c-47e9-dc3d-2f2f83bef904"
      },
      "source": [
        "rf_model.fit(df, target)"
      ],
      "execution_count": 18,
      "outputs": [
        {
          "output_type": "execute_result",
          "data": {
            "text/plain": [
              "RandomForestClassifier(random_state=160)"
            ]
          },
          "metadata": {},
          "execution_count": 18
        }
      ]
    },
    {
      "cell_type": "code",
      "metadata": {
        "id": "15oQRAXlJ5jO"
      },
      "source": [
        "predict = rf_model.predict(df)"
      ],
      "execution_count": 19,
      "outputs": []
    },
    {
      "cell_type": "code",
      "metadata": {
        "id": "VTRz5zKOJ_4P",
        "colab": {
          "base_uri": "https://localhost:8080/"
        },
        "outputId": "6d1ddb6b-e4e9-4201-d795-2d2900d8c7e4"
      },
      "source": [
        "print (predict)"
      ],
      "execution_count": 20,
      "outputs": [
        {
          "output_type": "stream",
          "name": "stdout",
          "text": [
            "[1 1 1 ... 0 0 0]\n"
          ]
        }
      ]
    },
    {
      "cell_type": "code",
      "metadata": {
        "id": "zWGCzkbKKCgY"
      },
      "source": [
        "acc_score = accuracy_score(target, predict)"
      ],
      "execution_count": 21,
      "outputs": []
    },
    {
      "cell_type": "code",
      "metadata": {
        "id": "EwY23F2zKRSx",
        "colab": {
          "base_uri": "https://localhost:8080/"
        },
        "outputId": "ec07b3d4-e8e7-48e7-cb97-939309046aef"
      },
      "source": [
        "print(acc_score)"
      ],
      "execution_count": 22,
      "outputs": [
        {
          "output_type": "stream",
          "name": "stdout",
          "text": [
            "0.9993479678330798\n"
          ]
        }
      ]
    },
    {
      "cell_type": "code",
      "metadata": {
        "id": "mjIFun3kKTEG"
      },
      "source": [
        ""
      ],
      "execution_count": null,
      "outputs": []
    }
  ]
}